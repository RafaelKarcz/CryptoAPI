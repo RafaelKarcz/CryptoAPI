{
 "cells": [
  {
   "cell_type": "code",
   "execution_count": null,
   "id": "47d2f954-3d8e-4119-8945-bcac60b6a6f6",
   "metadata": {},
   "outputs": [],
   "source": [
    "import json\n",
    "import os\n",
    "from time import sleep\n",
    "from requests import Session\n",
    "from requests.exceptions import ConnectionError, Timeout, TooManyRedirects\n",
    "import pandas as pd\n",
    "\n",
    "def fetch_crypto_data():\n",
    "    url = 'https://pro-api.coinmarketcap.com/v1/cryptocurrency/listings/latest'\n",
    "    parameters = {\n",
    "        'start': '1',\n",
    "        'limit': '15',\n",
    "        'convert': 'USD'\n",
    "    }\n",
    "    headers = {\n",
    "        'Accepts': 'application/json',\n",
    "        'X-CMC_PRO_API_KEY': 'e4a3bb1a-739c-4dd7-a6d9-651d3033e436',\n",
    "    }\n",
    "    session = Session()\n",
    "    session.headers.update(headers)\n",
    "\n",
    "    try:\n",
    "        response = session.get(url, params=parameters)\n",
    "        crypto_data = json.loads(response.text)\n",
    "        return crypto_data\n",
    "    except (ConnectionError, Timeout, TooManyRedirects) as error:\n",
    "        print(error)\n",
    "        return None\n",
    "\n",
    "def normalize_crypto_data(data):\n",
    "    crypto_df = pd.json_normalize(data['data'])\n",
    "    crypto_df['timestamp'] = pd.to_datetime('now')\n",
    "    return crypto_df\n",
    "\n",
    "def api_runner(existing_data=None):\n",
    "    crypto_data = fetch_crypto_data()\n",
    "    if crypto_data is None:\n",
    "        return existing_data\n",
    "    \n",
    "    normalized_data = normalize_crypto_data(crypto_data)\n",
    "    \n",
    "    if existing_data is None:\n",
    "        return normalized_data\n",
    "    else:\n",
    "        return pd.concat([existing_data, normalized_data], ignore_index=True)\n",
    "\n",
    "def collect_and_save_data(iterations=20, filepath='/home/rafael/Documents/Python/CryptoAPI/crypto_data.csv'):\n",
    "    collected_data = pd.DataFrame()\n",
    "    \n",
    "    for _ in range(iterations):\n",
    "        collected_data = api_runner(collected_data)\n",
    "        print('API Runner completed successfully')\n",
    "        \n",
    "        if not os.path.isfile(filepath):\n",
    "            collected_data.to_csv(filepath, index=False)\n",
    "        else:\n",
    "            collected_data.to_csv(filepath, mode='a', header=False, index=False)\n",
    "        \n",
    "        sleep(86400)  # Sleep for 24 hours (86400 seconds)"
   ]
  },
  {
   "cell_type": "code",
   "execution_count": null,
   "id": "af90eb67-33d8-4917-b1f1-9fa3b18d194c",
   "metadata": {},
   "outputs": [],
   "source": [
    "if __name__ == \"__main__\":\n",
    "    collect_and_save_data()"
   ]
  }
 ],
 "metadata": {
  "kernelspec": {
   "display_name": "Python 3 (ipykernel)",
   "language": "python",
   "name": "python3"
  },
  "language_info": {
   "codemirror_mode": {
    "name": "ipython",
    "version": 3
   },
   "file_extension": ".py",
   "mimetype": "text/x-python",
   "name": "python",
   "nbconvert_exporter": "python",
   "pygments_lexer": "ipython3",
   "version": "3.11.9"
  }
 },
 "nbformat": 4,
 "nbformat_minor": 5
}
